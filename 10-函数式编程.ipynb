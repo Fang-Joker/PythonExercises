{
 "cells": [
  {
   "cell_type": "markdown",
   "metadata": {},
   "source": [
    "利用map()函数，把用户输入的不规范的英文，变成首字母大写，其他小写的规范的名字：比如说[\"ADMAm\",\"LISA\",\"JACk\"] [\"Admam\",\"Lisa\",\"Jack\"]\n",
    "利用 lamdba函数"
   ]
  },
  {
   "cell_type": "code",
   "execution_count": 2,
   "metadata": {},
   "outputs": [
    {
     "name": "stdout",
     "output_type": "stream",
     "text": [
      "['Admam', 'Lisa', 'Jack']\n"
     ]
    }
   ],
   "source": [
    "ls = [\"ADMAm\",\"LISA\",\"JACk\"]\n",
    "\n",
    "new_ls = map(lambda x: x.lower().capitalize(), ls)\n",
    "\n",
    "print(list(new_ls))"
   ]
  },
  {
   "cell_type": "markdown",
   "metadata": {},
   "source": [
    "回数：从左向右和从右向左读都是一样的数，例如 12321，999，请利用filter()函数\n",
    "使用 lambda函数"
   ]
  },
  {
   "cell_type": "code",
   "execution_count": 4,
   "metadata": {},
   "outputs": [
    {
     "name": "stdout",
     "output_type": "stream",
     "text": [
      "[0, 1, 2, 3, 4, 5, 6, 7, 8, 9, 11, 22, 33, 44, 55, 66, 77, 88, 99, 101, 111, 121, 131, 141, 151, 161, 171, 181, 191, 202, 212, 222, 232, 242, 252, 262, 272, 282, 292, 303, 313, 323, 333, 343, 353, 363, 373, 383, 393, 404, 414, 424, 434, 444, 454, 464, 474, 484, 494, 505, 515, 525, 535, 545, 555, 565, 575, 585, 595, 606, 616, 626, 636, 646, 656, 666, 676, 686, 696, 707, 717, 727, 737, 747, 757, 767, 777, 787, 797, 808, 818, 828, 838, 848, 858, 868, 878, 888, 898, 909, 919, 929, 939, 949, 959, 969, 979, 989, 999]\n"
     ]
    }
   ],
   "source": [
    "# 打印出1到1000之间的回数\n",
    "# 这个对三位数才有效，超过就会出问题\n",
    "\n",
    "new_ls = filter(lambda x: str(x)[0] == str(x)[-1], range(1000))\n",
    "print(list(new_ls))"
   ]
  },
  {
   "cell_type": "markdown",
   "metadata": {},
   "source": [
    "假设，我们用一组tuple来表示学生的名字和成绩，L = [(\"Bob\",75),(\"Adam\",92),(\"Bart\",66),(\"List\",88)] 用sorted()对上述列表按照名字排序\n",
    "使用lambda函数"
   ]
  },
  {
   "cell_type": "code",
   "execution_count": 6,
   "metadata": {},
   "outputs": [
    {
     "name": "stdout",
     "output_type": "stream",
     "text": [
      "[('Adam', 92), ('Bart', 66), ('Bob', 75), ('List', 88)]\n"
     ]
    }
   ],
   "source": [
    "ls = [(\"Bob\",75),(\"Adam\",92),(\"Bart\",66),(\"List\",88)] \n",
    "\n",
    "new_ls = sorted(ls, key=lambda x: x[0])\n",
    "print(list(new_ls))"
   ]
  },
  {
   "cell_type": "code",
   "execution_count": 10,
   "metadata": {},
   "outputs": [
    {
     "name": "stdout",
     "output_type": "stream",
     "text": [
      "[('Bart', 66), ('Bob', 75), ('List', 88), ('Adam', 92)]\n"
     ]
    }
   ],
   "source": [
    "# 再按照成绩高低进行排序\n",
    "\n",
    "new_ls = sorted(ls, key=lambda x: x[1])\n",
    "print(list(new_ls))"
   ]
  },
  {
   "cell_type": "markdown",
   "metadata": {},
   "source": [
    "权重\n",
    "goods = [{\"name\":\"good1\", \"price\":200, \"sales\":100, \"stars\":5, \"comments\":400},{\"name\":\"good2\", \"price\":300, \"sales\":120, \"stars\":4, \"comments\":500},{\"name\":\"good3\", \"price\":500, \"sales\":3000, \"stars\":2, \"comments\":199},{\"name\":\"good4\", \"price\":1288, \"sales\":8, \"stars\":5, \"comments\":398},{\"name\":\"good5\", \"price\":899, \"sales\":99, \"stars\":5, \"comments\":2000}]\n",
    "权重是100\n",
    "价格占的权重是40%,销量占的权重是17%,评级占的权重是13%,评论占的权重是30%"
   ]
  },
  {
   "cell_type": "code",
   "execution_count": 12,
   "metadata": {},
   "outputs": [
    {
     "name": "stdout",
     "output_type": "stream",
     "text": [
      "[{'name': 'good1', 'price': 200, 'sales': 100, 'stars': 5, 'comments': 400}, {'name': 'good2', 'price': 300, 'sales': 120, 'stars': 4, 'comments': 500}, {'name': 'good4', 'price': 1288, 'sales': 8, 'stars': 5, 'comments': 398}, {'name': 'good3', 'price': 500, 'sales': 3000, 'stars': 2, 'comments': 199}, {'name': 'good5', 'price': 899, 'sales': 99, 'stars': 5, 'comments': 2000}]\n"
     ]
    }
   ],
   "source": [
    "goods = [{\"name\":\"good1\", \"price\":200, \"sales\":100, \"stars\":5, \"comments\":400},{\"name\":\"good2\", \"price\":300, \"sales\":120, \"stars\":4, \"comments\":500},{\"name\":\"good3\", \"price\":500, \"sales\":3000, \"stars\":2, \"comments\":199},{\"name\":\"good4\", \"price\":1288, \"sales\":8, \"stars\":5, \"comments\":398},{\"name\":\"good5\", \"price\":899, \"sales\":99, \"stars\":5, \"comments\":2000}]\n",
    "\n",
    "# sorted() 进行排序\n",
    "\n",
    "def my_sorted(arg):\n",
    "    price = arg['price']\n",
    "    sales = arg['sales']\n",
    "    stars = arg['stars']\n",
    "    comments = arg['comments']\n",
    "    \n",
    "    data = price*0.4 + sales*0.17 + stars*0.13 + comments*0.3\n",
    "    \n",
    "    return data\n",
    "\n",
    "print(sorted(goods, key=my_sorted))"
   ]
  },
  {
   "cell_type": "code",
   "execution_count": 14,
   "metadata": {},
   "outputs": [
    {
     "name": "stdout",
     "output_type": "stream",
     "text": [
      "[{'name': 'good5', 'price': 899, 'sales': 99, 'stars': 5, 'comments': 2000}, {'name': 'good3', 'price': 500, 'sales': 3000, 'stars': 2, 'comments': 199}, {'name': 'good4', 'price': 1288, 'sales': 8, 'stars': 5, 'comments': 398}, {'name': 'good2', 'price': 300, 'sales': 120, 'stars': 4, 'comments': 500}, {'name': 'good1', 'price': 200, 'sales': 100, 'stars': 5, 'comments': 400}]\n"
     ]
    }
   ],
   "source": [
    "r = sorted(goods, key=lambda x: x['price'] *0.4 + x['sales']*0.17+x['stars']*0.13+x['comments']*0.3, reverse=True)\n",
    "\n",
    "print(r)"
   ]
  }
 ],
 "metadata": {
  "kernelspec": {
   "display_name": "Python 3",
   "language": "python",
   "name": "python3"
  },
  "language_info": {
   "codemirror_mode": {
    "name": "ipython",
    "version": 3
   },
   "file_extension": ".py",
   "mimetype": "text/x-python",
   "name": "python",
   "nbconvert_exporter": "python",
   "pygments_lexer": "ipython3",
   "version": "3.7.0"
  }
 },
 "nbformat": 4,
 "nbformat_minor": 2
}
