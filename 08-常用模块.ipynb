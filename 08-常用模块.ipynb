{
 "cells": [
  {
   "cell_type": "markdown",
   "metadata": {},
   "source": [
    "写一个6位随机验证码程序（使用random模块),要求验证码中至少包含一个数字、一个小写字母、一个大写字母\n"
   ]
  },
  {
   "cell_type": "code",
   "execution_count": 1,
   "metadata": {},
   "outputs": [
    {
     "name": "stdout",
     "output_type": "stream",
     "text": [
      "wQ5QWI\n"
     ]
    }
   ],
   "source": [
    "import random\n",
    "import string\n",
    "\n",
    "# help(string)\n",
    "\n",
    "code = []\n",
    "# 直接里哟个string下的ascii函数对其其所有字符\n",
    "code.append(random.choice(string.ascii_lowercase)) # 保证验证码中有一个小写字母\n",
    "code.append(random.choice(string.ascii_uppercase)) # 保证验证码中有一个大写字母\n",
    "code.append(random.choice(string.digits)) # 保证验证码中有一个数字\n",
    "\n",
    "while len(code) < 6:\n",
    "    code.append(random.choice(string.ascii_lowercase+string.ascii_uppercase+string.digits))\n",
    "    \n",
    "# print(code)\n",
    "\n",
    "q_code = \"\".join(code)\n",
    "print(q_code)"
   ]
  },
  {
   "cell_type": "code",
   "execution_count": 7,
   "metadata": {},
   "outputs": [
    {
     "name": "stdout",
     "output_type": "stream",
     "text": [
      "abcdefghijklmnopqrstuvwxyz\n",
      "ABCDEFGHIJKLMNOPQRSTUVWXYZ\n",
      "0123456789\n"
     ]
    }
   ],
   "source": [
    "print(string.ascii_lowercase)\n",
    "print(string.ascii_uppercase)\n",
    "print(string.digits)"
   ]
  },
  {
   "cell_type": "markdown",
   "metadata": {},
   "source": [
    "#### 写一个用户登录验证程序，文件如下 1234.json\n",
    "\n",
    "1234.json  \n",
    "{\"expire_date\":\"2021-01-01\",\"id\":\"1234\",\"status\":0,\"pay_day\":22,\"password\":\"abc\"}\n",
    "\n",
    "- 用户名为json的文件名\n",
    "- 判断是否过期，与expire_date做比较\n",
    "- 登陆成功后打印登陆成功，三次登陆失败，status值改为1，并且锁定账号"
   ]
  },
  {
   "cell_type": "code",
   "execution_count": 3,
   "metadata": {},
   "outputs": [
    {
     "name": "stdout",
     "output_type": "stream",
     "text": [
      "请输入用户名：08-test01\n",
      "请输入密码：abc\n",
      "登陆成功\n"
     ]
    }
   ],
   "source": [
    "import os\n",
    "import time\n",
    "import json\n",
    "\n",
    "count = 0\n",
    "\n",
    "# 设置退出标志\n",
    "exit_flag = False\n",
    "\n",
    "while count < 3:\n",
    "    user = input(\"请输入用户名：\")\n",
    "    f = user.strip() + '.json'\n",
    "    if os.path.exists(f):\n",
    "        fp = open(f, 'r+', encoding=\"utf-8\")\n",
    "        j_user = json.load(fp)\n",
    "        if j_user['status'] == 1:\n",
    "            print(\"账号已经锁定\")\n",
    "            break\n",
    "        else:\n",
    "            expire_dt = j_user[\"expire_date\"]\n",
    "            current_st = time.time()\n",
    "            expire_dt = time.mktime(time.strptime(expire_dt,\"%Y-%m-%d\"))\n",
    "            \n",
    "            if current_st > expire_dt:\n",
    "                print(\"用户已经过期\")\n",
    "                break\n",
    "            else:\n",
    "                while count < 3:\n",
    "                    pw = input(\"请输入密码：\")\n",
    "                    if pw.strip() == j_user['password']:\n",
    "                        print(\"登陆成功\")\n",
    "                        exit_flag = True\n",
    "                        break\n",
    "                    else:\n",
    "                        if count == 2:\n",
    "                            print(\"登录次数已达到三次，锁定账号\")\n",
    "                            j_user['status'] = 1\n",
    "                            fp.seek(0)\n",
    "                            fp.truncate()  # 清空文件内容\n",
    "                            json.dump(j_user, fp)\n",
    "                        count += 1\n",
    "    if exit_flag:\n",
    "        break\n",
    "    else:\n",
    "        print(\"用户不存在\")\n",
    "        count += 1\n",
    "\n"
   ]
  }
 ],
 "metadata": {
  "kernelspec": {
   "display_name": "Python 3",
   "language": "python",
   "name": "python3"
  },
  "language_info": {
   "codemirror_mode": {
    "name": "ipython",
    "version": 3
   },
   "file_extension": ".py",
   "mimetype": "text/x-python",
   "name": "python",
   "nbconvert_exporter": "python",
   "pygments_lexer": "ipython3",
   "version": "3.7.0"
  }
 },
 "nbformat": 4,
 "nbformat_minor": 2
}
