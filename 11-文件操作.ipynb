{
 "cells": [
  {
   "cell_type": "markdown",
   "metadata": {},
   "source": [
    "# 比较文件的不同"
   ]
  },
  {
   "cell_type": "markdown",
   "metadata": {},
   "source": [
    "编写一个程序，接受用户输入的内容，并且保存为新的文件\n",
    "如果用户单独输入 :w\n",
    "表示文件保存退出"
   ]
  },
  {
   "cell_type": "code",
   "execution_count": 3,
   "metadata": {},
   "outputs": [
    {
     "name": "stdout",
     "output_type": "stream",
     "text": [
      "请输入文件名11-test01.txt\n",
      "请输入内容，单独输入'w'则退出并保存文件\n",
      "输入：nihao\n",
      "输入：nihao\n",
      "输入：nini\n",
      "输入：w\n"
     ]
    }
   ],
   "source": [
    "file_name = input(\"请输入文件名\")\n",
    "\n",
    "def file_write(file_name):\n",
    "    f = open(file_name, 'w')\n",
    "    print(\"请输入内容，单独输入'w'则退出并保存文件\")\n",
    "    \n",
    "    while True:\n",
    "        write_something = input(\"输入：\")\n",
    "        if write_something != 'w':\n",
    "            f.write(\"%s\\n\" %write_something)\n",
    "        else:\n",
    "            f.close()\n",
    "            break\n",
    "    \n",
    "file_write(file_name)"
   ]
  },
  {
   "cell_type": "markdown",
   "metadata": {},
   "source": [
    "#### 编写一个程序，比较用户输入的文件是否相同，如果不同，显示出所有不同处的行号\n",
    "- f.readline()\n",
    "- open()\n",
    "- differ "
   ]
  },
  {
   "cell_type": "code",
   "execution_count": 9,
   "metadata": {},
   "outputs": [
    {
     "name": "stdout",
     "output_type": "stream",
     "text": [
      "要比较的第一个文件名：11-test02.txt\n",
      "要比较的第一个文件名：11-test01.txt\n",
      "两个文件有3处不同\n",
      "第1不一样\n",
      "第2不一样\n",
      "第3不一样\n"
     ]
    }
   ],
   "source": [
    "file1 = input(\"要比较的第一个文件名：\")\n",
    "file2 = input(\"要比较的第一个文件名：\")\n",
    "\n",
    "def file_compare(file1, file2):\n",
    "    f1 = open(file1)\n",
    "    f2 = open(file2)\n",
    "    \n",
    "    count = 1 # 统计行数\n",
    "    differ = [] # 统计不一样的行数\n",
    "    \n",
    "    for line1 in f1:\n",
    "        line2 = f2.readline()\n",
    "        if line1 != line2:\n",
    "            differ.append(count)\n",
    "        count += 1\n",
    "    f1.close()\n",
    "    f2.close()\n",
    "    \n",
    "    return differ\n",
    "\n",
    "differ = file_compare(file1, file2)\n",
    "\n",
    "if len(differ) == 0:\n",
    "    print(\"两个文件一样\")\n",
    "else:\n",
    "    print(\"两个文件有%d处不同\" %len(differ))\n",
    "    for each in differ:\n",
    "        print(\"第%d不一样\" %each)"
   ]
  },
  {
   "cell_type": "markdown",
   "metadata": {},
   "source": [
    "# 打印文件内容\n",
    "#### 编写一个程序，当用户输入文件名和行数的时候，将该文件的前N行内容打印到屏幕上\n",
    "\n",
    "input 去接收一个文件名  \n",
    "input 去接收一个行数"
   ]
  },
  {
   "cell_type": "code",
   "execution_count": 11,
   "metadata": {},
   "outputs": [
    {
     "name": "stdout",
     "output_type": "stream",
     "text": [
      "请输入文件名：11-test02.txt\n",
      "要显示前几行：2\n",
      "\n",
      "文件11-test02.txt的前2行内容如下\n",
      "momomo\n",
      "\n",
      "momomo\n",
      "\n"
     ]
    }
   ],
   "source": [
    "file_name = input(\"请输入文件名：\")\n",
    "line_num = int(input(\"要显示前几行：\"))\n",
    "\n",
    "def file_view(file_name, line_num):\n",
    "    print(\"\\n文件%s的前%d行内容如下\" %(file_name, line_num))\n",
    "    \n",
    "    # 打印文件\n",
    "    f = open(file_name)\n",
    "    for i in range(line_num):\n",
    "        print(f.readline())\n",
    "        \n",
    "    f.close()\n",
    "    \n",
    "file_view(file_name, line_num)\n",
    "        "
   ]
  },
  {
   "cell_type": "markdown",
   "metadata": {},
   "source": [
    "#### 我们在上一道题的基础上，增加一点功能，使用户可以随意的输入需要显示的行数\n",
    "\n",
    "- 12:42\n",
    "- :\n",
    "- :9\n",
    "\n",
    "用以上的形式来表示我们想要打印的起始和结束的行数"
   ]
  },
  {
   "cell_type": "code",
   "execution_count": 26,
   "metadata": {},
   "outputs": [
    {
     "name": "stdout",
     "output_type": "stream",
     "text": [
      "请输入文件名：11-test02.txt\n",
      "要显示前几行(格式为 2:9)：2:\n",
      "\n",
      "文件11-test02.txt的前2:行内容如下\n",
      "momomo\n",
      "\n",
      "momomo\n"
     ]
    }
   ],
   "source": [
    "file_name = input(\"请输入文件名：\")\n",
    "line_num = input(\"要显示前几行(格式为 2:9)：\")\n",
    "\n",
    "def file_view(file_name, line_num):\n",
    "    print(\"\\n文件%s的前%s行内容如下\" %(file_name, line_num))\n",
    "    \n",
    "    begin, end = line_num.split(\":\")\n",
    "    \n",
    "    if begin == \"\":\n",
    "        begin = 1\n",
    "    else:\n",
    "        begin = int(begin)\n",
    "    \n",
    "    if end == \"\":\n",
    "        end = -1\n",
    "    else:\n",
    "        end = int(end)\n",
    "        \n",
    "    # 打印文件\n",
    "    f = open(file_name)\n",
    "    i = 1\n",
    "    for line in f:\n",
    "        if i >= begin:\n",
    "            if end == -1:\n",
    "                print(line)\n",
    "            elif i <= i:\n",
    "                print(line)\n",
    "        i += 1\n",
    "\n",
    "    f.close()\n",
    "    \n",
    "file_view(file_name, line_num)"
   ]
  },
  {
   "cell_type": "markdown",
   "metadata": {},
   "source": [
    "#### 编写一个程序，实现“全部替换”的功能\n",
    "\n",
    "- 打开一个文件\n",
    "- 把文件中 xxx这样的字符串，替换成 sss\n",
    "- open 打开文件\n",
    "- realine 读取文件内容\n",
    "- replace 替换\n"
   ]
  },
  {
   "cell_type": "code",
   "execution_count": 1,
   "metadata": {},
   "outputs": [
    {
     "name": "stdout",
     "output_type": "stream",
     "text": [
      "请输入你要打开的文件名：11-test02.txt\n",
      "请输入你要替换的字符：po\n",
      "请输入替换的新的字符串lki\n",
      "请问要替换吗？（确定请输入Y/y）y\n"
     ]
    }
   ],
   "source": [
    "file_name = input(\"请输入你要打开的文件名：\")\n",
    "rep_word = input(\"请输入你要替换的字符：\")\n",
    "new_word = input(\"请输入替换的新的字符串\")\n",
    "\n",
    "def file_replace(file_name,rep_word,new_word):\n",
    "    f = open(file_name)\n",
    "    content = []\n",
    "    \n",
    "    for line in f:\n",
    "        if rep_word in line:\n",
    "            line = line.replace(rep_word, new_word)\n",
    "        content.append(line)\n",
    "    f.close()\n",
    "    \n",
    "    decide = input(\"请问要替换吗？（确定请输入Y/y）\")\n",
    "    \n",
    "    if decide in [\"Y\", \"y\"]:\n",
    "        f = open(file_name, \"w\")\n",
    "        f.write(\"\".join(content))\n",
    "        f.close\n",
    "        \n",
    "\n",
    "file_replace(file_name, rep_word, new_word)        "
   ]
  },
  {
   "cell_type": "markdown",
   "metadata": {},
   "source": [
    "#### 编写一个程序，统计当前目录下每个文件类型的文件数\n",
    "\n",
    "##### 思路：\n",
    "- 打开当前的文件夹\n",
    "- 获取到当前文件夹下面所有的文件\n",
    "- 处理我们当前的文件夹下面可能有文件夹的情况 （也要答应出来）\n",
    "- 做出统计"
   ]
  },
  {
   "cell_type": "code",
   "execution_count": 9,
   "metadata": {},
   "outputs": [
    {
     "name": "stdout",
     "output_type": "stream",
     "text": [
      "该目录下有类型为dir的文件3个\n",
      "该目录下有类型为.ipynb的文件12个\n",
      "该目录下有类型为.py的文件1个\n",
      "该目录下有类型为.txt的文件4个\n",
      "该目录下有类型为.json的文件1个\n",
      "该目录下有类型为.md的文件1个\n"
     ]
    }
   ],
   "source": [
    "import os\n",
    "\n",
    "# 获取当前目录下的所有文件\n",
    "all_files = os.listdir(os.curdir) # os.curdir获取当前目录路径\n",
    "\n",
    "type_dict = dict()\n",
    "\n",
    "for each_file in all_files:\n",
    "    # 判断文件类型并记录\n",
    "    if os.path.isdir(each_file):\n",
    "        type_dict.setdefault(\"dir\", 0) # dict设置键值对的一种方式\n",
    "        type_dict[\"dir\"] += 1\n",
    "    else:\n",
    "        # 不是文件夹便统计文件类型,根据不同后缀\n",
    "        ext = os.path.splitext(each_file)[1] # os库提供的专门获取文件名后最的方法\n",
    "        type_dict.setdefault(ext, 0)\n",
    "        type_dict[ext] += 1\n",
    "\n",
    "for each_type in type_dict:\n",
    "    print(\"该目录下有类型为{}的文件{}个\".format(each_type, type_dict[each_type]))\n",
    "        "
   ]
  },
  {
   "cell_type": "markdown",
   "metadata": {},
   "source": [
    "#### 编写一个程序，计算当前文件夹下面所有文件的大小\n",
    "- 打开当前文件夹\n",
    "- 获取到所有的文件，和文件大小\n",
    "- 保存我们获取到的数据，然后打印出来"
   ]
  },
  {
   "cell_type": "code",
   "execution_count": 11,
   "metadata": {},
   "outputs": [
    {
     "name": "stdout",
     "output_type": "stream",
     "text": [
      "01-for_func.ipynb大小为：3479\n",
      "02-递归.ipynb大小为：13679\n",
      "03-字典练习.py大小为：1262\n",
      "04-类的练习.ipynb大小为：7232\n",
      "05-类的练习-2.ipynb大小为：7010\n",
      "06-类的练习-3.ipynb大小为：7524\n",
      "07-text01.txt大小为：50\n",
      "07-异常.ipynb大小为：3286\n",
      "08-test01.json大小为：81\n",
      "08-常用模块.ipynb大小为：4666\n",
      "09-常用函数.ipynb大小为：4359\n",
      "10-函数式编程.ipynb大小为：6230\n",
      "11-test01.txt大小为：20\n",
      "11-test02.txt大小为：35\n",
      "11-test03.txt大小为：31\n",
      "11-文件操作.ipynb大小为：11622\n",
      "LY-01-for.ipynb大小为：9317\n",
      "LY-02-str_list_dict_set.ipynb大小为：36156\n",
      "README.md大小为：19\n"
     ]
    }
   ],
   "source": [
    "import os\n",
    "\n",
    "all_file = os.listdir(os.curdir)\n",
    "\n",
    "file_dict = dict()\n",
    "\n",
    "for each_file in all_file:\n",
    "    # 判断是否为文件\n",
    "    if os.path.isfile(each_file):\n",
    "        file_size = os.path.getsize(each_file)\n",
    "        file_dict[each_file] = file_size\n",
    "        \n",
    "for each in file_dict.items():\n",
    "    print(\"{}大小为：{}\".format(each[0], each[1]))"
   ]
  },
  {
   "cell_type": "markdown",
   "metadata": {},
   "source": [
    "# 文件查找\n",
    "#### 编写一个程序，用户输入文件名以及开始搜索的路径，搜索该文件是否存在，如果遇到文件夹，则进入该文件夹继续搜索\n",
    "\n",
    "- input 去接受用户输入的文件名和开始搜索的路径\n",
    "- os.path.isdir 去判断是不是文件夹 如果是的话，就需要进入该文件夹继续搜索，循环调用一下我们的函数来实现"
   ]
  },
  {
   "cell_type": "code",
   "execution_count": 6,
   "metadata": {},
   "outputs": [
    {
     "name": "stdout",
     "output_type": "stream",
     "text": [
      "初始路径：C:\\Users\\zhong\\PycharmProjects\\PythonExercises\n",
      "请输入搜寻的目录：.\n",
      "请输入文件名11-test01.txt\n",
      "C:\\Users\\zhong\\PycharmProjects\\PythonExercises\\11-test01.txt\n",
      "搜索结束!\n"
     ]
    }
   ],
   "source": [
    "import os\n",
    "\n",
    "# 当前路径操作后会变化，不会自动还原，因此最后要回复为初始路径\n",
    "st = os.getcwd()\n",
    "print(\"初始路径：{}\".format(st))\n",
    "start_dir = input(\"请输入搜寻的目录：\")\n",
    "target = input(\"请输入文件名\")\n",
    "\n",
    "def search_file(start_dir, target):\n",
    "    os.chdir(start_dir) # 将用户输入的路径作为当前目录\n",
    "    \n",
    "    for each_file in os.listdir(os.curdir):\n",
    "        if each_file == target:\n",
    "            print(os.getcwd()+ os.sep + each_file)\n",
    "        if os.path.isdir(each_file):\n",
    "            search_file(each_file, target)\n",
    "            os.chdir(os.pardir)\n",
    "    \n",
    "            \n",
    "search_file(start_dir, target)\n",
    "print(\"搜索结束!\")\n",
    "os.chdir(st)"
   ]
  },
  {
   "cell_type": "markdown",
   "metadata": {},
   "source": [
    "#### 对上述题目加一些需求，模糊匹配，判断我们的target是否包含在某一个文件中\n",
    "- in 去判断target这个字符串是否在文件的名字中"
   ]
  },
  {
   "cell_type": "code",
   "execution_count": 1,
   "metadata": {},
   "outputs": [
    {
     "name": "stdout",
     "output_type": "stream",
     "text": [
      "初始路径：C:\\Users\\zhong\\PycharmProjects\\PythonExercises\n",
      "请输入搜寻的目录：.\n",
      "请输入文件名11\n",
      "C:\\Users\\zhong\\PycharmProjects\\PythonExercises\\.git\\objects\\02\\a27f5bf230551e95fb4d5d7fd11e0af755cab4\n",
      "C:\\Users\\zhong\\PycharmProjects\\PythonExercises\\.git\\objects\\27\\db6dd212be03644b0116a7cfc93f958a03ef56\n",
      "C:\\Users\\zhong\\PycharmProjects\\PythonExercises\\.git\\objects\\75\\a064660d484338c7c5a360aa730bc8ca611863\n",
      "C:\\Users\\zhong\\PycharmProjects\\PythonExercises\\.git\\objects\\86\\5611434f0cce78ec2223c6c4d52a717e8ec1c1\n",
      "C:\\Users\\zhong\\PycharmProjects\\PythonExercises\\.git\\objects\\9b\\3c8c2d5945e225f165f7f580c5b50607d1147c\n",
      "C:\\Users\\zhong\\PycharmProjects\\PythonExercises\\.git\\objects\\de\\dc18407e03f153b8c70fb61139719fd328f6be\n",
      "C:\\Users\\zhong\\PycharmProjects\\PythonExercises\\.git\\objects\\e6\\9671f0bcc719b6921d0779b2171154d0c3f7f4\n",
      "C:\\Users\\zhong\\PycharmProjects\\PythonExercises\\.ipynb_checkpoints\\11-文件操作-checkpoint.ipynb\n",
      "C:\\Users\\zhong\\PycharmProjects\\PythonExercises\\11-test01.txt\n",
      "C:\\Users\\zhong\\PycharmProjects\\PythonExercises\\11-test02.txt\n",
      "C:\\Users\\zhong\\PycharmProjects\\PythonExercises\\11-test03.txt\n",
      "C:\\Users\\zhong\\PycharmProjects\\PythonExercises\\11-文件操作.ipynb\n",
      "搜索结束!\n"
     ]
    }
   ],
   "source": [
    "import os\n",
    "\n",
    "# 当前路径操作后会变化，不会自动还原，因此最后要回复为初始路径\n",
    "st = os.getcwd()\n",
    "print(\"初始路径：{}\".format(st))\n",
    "start_dir = input(\"请输入搜寻的目录：\")\n",
    "target = input(\"请输入文件名\")\n",
    "\n",
    "def search_file(start_dir, target):\n",
    "    os.chdir(start_dir) # 将用户输入的路径作为当前目录\n",
    "    \n",
    "    for each_file in os.listdir(os.curdir):\n",
    "        if target in each_file:\n",
    "            print(os.getcwd() + os.sep + each_file)\n",
    "        if os.path.isdir(each_file):\n",
    "            search_file(each_file, target)\n",
    "            os.chdir(os.pardir)\n",
    "    \n",
    "            \n",
    "search_file(start_dir, target)\n",
    "print(\"搜索结束!\")\n",
    "os.chdir(st)"
   ]
  },
  {
   "cell_type": "markdown",
   "metadata": {},
   "source": [
    "#### 再加一个需求，上述题目，我们需要保存我们的文件存在的地方，到我们指定的路径\n",
    "\n",
    "- file I/O 写文件"
   ]
  },
  {
   "cell_type": "code",
   "execution_count": 9,
   "metadata": {},
   "outputs": [
    {
     "name": "stdout",
     "output_type": "stream",
     "text": [
      "初始路径：C:\\Users\\zhong\\PycharmProjects\\PythonExercises\n",
      "请输入搜寻的目录：.\n",
      "请输入文件名11\n",
      "搜索结束!\n",
      "C:\\Users\\zhong\\PycharmProjects\\PythonExercises\n"
     ]
    }
   ],
   "source": [
    "import os\n",
    "\n",
    "# 当前路径操作后会变化，不会自动还原，因此最后要回复为初始路径\n",
    "st = os.getcwd()\n",
    "print(\"初始路径：{}\".format(st))\n",
    "start_dir = input(\"请输入搜寻的目录：\")\n",
    "target = input(\"请输入文件名\")\n",
    "backup = []\n",
    "\n",
    "\n",
    "def search_file(start_dir, target):\n",
    "    os.chdir(start_dir) # 将用户输入的路径作为当前目录\n",
    "    \n",
    "    for each_file in os.listdir(os.curdir):\n",
    "        if target in each_file:\n",
    "            backup_file = os.getcwd()+ os.sep + each_file\n",
    "            backup.append(backup_file)\n",
    "        if os.path.isdir(each_file):\n",
    "            search_file(each_file, target)\n",
    "            os.chdir(os.pardir)\n",
    "    \n",
    "            \n",
    "search_file(start_dir, target)\n",
    "print(\"搜索结束!\")\n",
    "os.chdir(st)\n",
    "print(os.getcwd())\n",
    "\n",
    "f = open(os.getcwd() + os.sep + \"backup.txt\", \"wb\")\n",
    "f.write(\"\\n\".join(backup).encode(\"utf-8\"))\n",
    "f.close()"
   ]
  }
 ],
 "metadata": {
  "kernelspec": {
   "display_name": "Python 3",
   "language": "python",
   "name": "python3"
  },
  "language_info": {
   "codemirror_mode": {
    "name": "ipython",
    "version": 3
   },
   "file_extension": ".py",
   "mimetype": "text/x-python",
   "name": "python",
   "nbconvert_exporter": "python",
   "pygments_lexer": "ipython3",
   "version": "3.7.0"
  }
 },
 "nbformat": 4,
 "nbformat_minor": 2
}
