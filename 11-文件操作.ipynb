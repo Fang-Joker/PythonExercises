{
 "cells": [
  {
   "cell_type": "markdown",
   "metadata": {},
   "source": [
    "# 比较文件的不同"
   ]
  },
  {
   "cell_type": "markdown",
   "metadata": {},
   "source": [
    "编写一个程序，接受用户输入的内容，并且保存为新的文件\n",
    "如果用户单独输入 :w\n",
    "表示文件保存退出"
   ]
  },
  {
   "cell_type": "code",
   "execution_count": 3,
   "metadata": {},
   "outputs": [
    {
     "name": "stdout",
     "output_type": "stream",
     "text": [
      "请输入文件名11-test01.txt\n",
      "请输入内容，单独输入'w'则退出并保存文件\n",
      "输入：nihao\n",
      "输入：nihao\n",
      "输入：nini\n",
      "输入：w\n"
     ]
    }
   ],
   "source": [
    "file_name = input(\"请输入文件名\")\n",
    "\n",
    "def file_write(file_name):\n",
    "    f = open(file_name, 'w')\n",
    "    print(\"请输入内容，单独输入'w'则退出并保存文件\")\n",
    "    \n",
    "    while True:\n",
    "        write_something = input(\"输入：\")\n",
    "        if write_something != 'w':\n",
    "            f.write(\"%s\\n\" %write_something)\n",
    "        else:\n",
    "            f.close()\n",
    "            break\n",
    "    \n",
    "file_write(file_name)"
   ]
  },
  {
   "cell_type": "markdown",
   "metadata": {},
   "source": [
    "#### 编写一个程序，比较用户输入的文件是否相同，如果不同，显示出所有不同处的行号\n",
    "- f.readline()\n",
    "- open()\n",
    "- differ "
   ]
  },
  {
   "cell_type": "code",
   "execution_count": 9,
   "metadata": {},
   "outputs": [
    {
     "name": "stdout",
     "output_type": "stream",
     "text": [
      "要比较的第一个文件名：11-test02.txt\n",
      "要比较的第一个文件名：11-test01.txt\n",
      "两个文件有3处不同\n",
      "第1不一样\n",
      "第2不一样\n",
      "第3不一样\n"
     ]
    }
   ],
   "source": [
    "file1 = input(\"要比较的第一个文件名：\")\n",
    "file2 = input(\"要比较的第一个文件名：\")\n",
    "\n",
    "def file_compare(file1, file2):\n",
    "    f1 = open(file1)\n",
    "    f2 = open(file2)\n",
    "    \n",
    "    count = 1 # 统计行数\n",
    "    differ = [] # 统计不一样的行数\n",
    "    \n",
    "    for line1 in f1:\n",
    "        line2 = f2.readline()\n",
    "        if line1 != line2:\n",
    "            differ.append(count)\n",
    "        count += 1\n",
    "    f1.close()\n",
    "    f2.close()\n",
    "    \n",
    "    return differ\n",
    "\n",
    "differ = file_compare(file1, file2)\n",
    "\n",
    "if len(differ) == 0:\n",
    "    print(\"两个文件一样\")\n",
    "else:\n",
    "    print(\"两个文件有%d处不同\" %len(differ))\n",
    "    for each in differ:\n",
    "        print(\"第%d不一样\" %each)"
   ]
  },
  {
   "cell_type": "markdown",
   "metadata": {},
   "source": [
    "# 打印文件内容\n",
    "#### 编写一个程序，当用户输入文件名和行数的时候，将该文件的前N行内容打印到屏幕上\n",
    "\n",
    "input 去接收一个文件名  \n",
    "input 去接收一个行数"
   ]
  },
  {
   "cell_type": "code",
   "execution_count": 11,
   "metadata": {},
   "outputs": [
    {
     "name": "stdout",
     "output_type": "stream",
     "text": [
      "请输入文件名：11-test02.txt\n",
      "要显示前几行：2\n",
      "\n",
      "文件11-test02.txt的前2行内容如下\n",
      "momomo\n",
      "\n",
      "momomo\n",
      "\n"
     ]
    }
   ],
   "source": [
    "file_name = input(\"请输入文件名：\")\n",
    "line_num = int(input(\"要显示前几行：\"))\n",
    "\n",
    "def file_view(file_name, line_num):\n",
    "    print(\"\\n文件%s的前%d行内容如下\" %(file_name, line_num))\n",
    "    \n",
    "    # 打印文件\n",
    "    f = open(file_name)\n",
    "    for i in range(line_num):\n",
    "        print(f.readline())\n",
    "        \n",
    "    f.close()\n",
    "    \n",
    "file_view(file_name, line_num)\n",
    "        "
   ]
  },
  {
   "cell_type": "markdown",
   "metadata": {},
   "source": [
    "#### 我们在上一道题的基础上，增加一点功能，使用户可以随意的输入需要显示的行数\n",
    "\n",
    "- 12:42\n",
    "- :\n",
    "- :9\n",
    "\n",
    "用以上的形式来表示我们想要打印的起始和结束的行数"
   ]
  },
  {
   "cell_type": "code",
   "execution_count": 26,
   "metadata": {},
   "outputs": [
    {
     "name": "stdout",
     "output_type": "stream",
     "text": [
      "请输入文件名：11-test02.txt\n",
      "要显示前几行(格式为 2:9)：2:\n",
      "\n",
      "文件11-test02.txt的前2:行内容如下\n",
      "momomo\n",
      "\n",
      "momomo\n"
     ]
    }
   ],
   "source": [
    "file_name = input(\"请输入文件名：\")\n",
    "line_num = input(\"要显示前几行(格式为 2:9)：\")\n",
    "\n",
    "def file_view(file_name, line_num):\n",
    "    print(\"\\n文件%s的前%s行内容如下\" %(file_name, line_num))\n",
    "    \n",
    "    begin, end = line_num.split(\":\")\n",
    "    \n",
    "    if begin == \"\":\n",
    "        begin = 1\n",
    "    else:\n",
    "        begin = int(begin)\n",
    "    \n",
    "    if end == \"\":\n",
    "        end = -1\n",
    "    else:\n",
    "        end = int(end)\n",
    "        \n",
    "    # 打印文件\n",
    "    f = open(file_name)\n",
    "    i = 1\n",
    "    for line in f:\n",
    "        if i >= begin:\n",
    "            if end == -1:\n",
    "                print(line)\n",
    "            elif i <= i:\n",
    "                print(line)\n",
    "        i += 1\n",
    "\n",
    "    f.close()\n",
    "    \n",
    "file_view(file_name, line_num)"
   ]
  },
  {
   "cell_type": "markdown",
   "metadata": {},
   "source": [
    "#### 编写一个程序，实现“全部替换”的功能\n",
    "\n",
    "- 打开一个文件\n",
    "- 把文件中 xxx这样的字符串，替换成 sss\n",
    "- open 打开文件\n",
    "- realine 读取文件内容\n",
    "- replace 替换\n"
   ]
  },
  {
   "cell_type": "code",
   "execution_count": 4,
   "metadata": {},
   "outputs": [
    {
     "name": "stdout",
     "output_type": "stream",
     "text": [
      "请输入你要打开的文件名：11-test03.txt\n",
      "请输入你要替换的字符：mo\n",
      "请输入替换的新的字符串lop\n",
      "请问要替换吗？（确定请输入Y/y）y\n"
     ]
    }
   ],
   "source": [
    "file_name = input(\"请输入你要打开的文件名：\")\n",
    "rep_word = input(\"请输入你要替换的字符：\")\n",
    "new_word = input(\"请输入替换的新的字符串\")\n",
    "\n",
    "def file_replace(file_name,rep_word,new_word):\n",
    "    f = open(file_name)\n",
    "    content = []\n",
    "    \n",
    "    for line in f:\n",
    "        if rep_word in line:\n",
    "            line = line.replace(rep_word, new_word)\n",
    "        content.append(line)\n",
    "    f.close()\n",
    "    \n",
    "    decide = input(\"请问要替换吗？（确定请输入Y/y）\")\n",
    "    \n",
    "    if decide in [\"Y\", \"y\"]:\n",
    "        f = open(file_name, \"w\")\n",
    "        f.write(\"\".join(content))\n",
    "        f.close\n",
    "        \n",
    "\n",
    "file_replace(file_name, rep_word, new_word)        "
   ]
  }
 ],
 "metadata": {
  "kernelspec": {
   "display_name": "Python 3",
   "language": "python",
   "name": "python3"
  },
  "language_info": {
   "codemirror_mode": {
    "name": "ipython",
    "version": 3
   },
   "file_extension": ".py",
   "mimetype": "text/x-python",
   "name": "python",
   "nbconvert_exporter": "python",
   "pygments_lexer": "ipython3",
   "version": "3.7.0"
  }
 },
 "nbformat": 4,
 "nbformat_minor": 2
}
