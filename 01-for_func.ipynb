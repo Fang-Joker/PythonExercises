{
 "cells": [
  {
   "cell_type": "code",
   "execution_count": 4,
   "metadata": {},
   "outputs": [
    {
     "name": "stdout",
     "output_type": "stream",
     "text": [
      "    * \n",
      "   * * \n",
      "  * * * \n",
      " * * * * \n",
      "* * * * * \n",
      " * * * * \n",
      "  * * * \n",
      "   * * \n",
      "    * \n"
     ]
    }
   ],
   "source": [
    "# 打印一个菱形 \n",
    "# 第一个循环控制行，第二个控制列\n",
    "# 也可以通过算法直接解决\n",
    "for i in range(4):\n",
    "    print(\" \" * (4-i), end=\"\")\n",
    "    print(\"* \" * (i+1)) \n",
    "print(\"* \" * 5)\n",
    "for i in range(4):\n",
    "    print(\" \" * (i+1), end=\"\")\n",
    "    print(\"* \" * (4-i))"
   ]
  },
  {
   "cell_type": "code",
   "execution_count": 14,
   "metadata": {},
   "outputs": [
    {
     "name": "stdout",
     "output_type": "stream",
     "text": [
      "    * \n",
      "   * * \n",
      "  *   * \n",
      " *     * \n",
      "*       * \n",
      " *     * \n",
      "  *   * \n",
      "   * * \n",
      "    * \n"
     ]
    }
   ],
   "source": [
    "# 打印一个空心菱形\n",
    "for i in range(5):\n",
    "    print(\" \" * (4-i), end=\"\")\n",
    "    for j in range(i+1):\n",
    "        if j == 0 or j == i: # 第一列和最后一列（行列号相等）打印星号\n",
    "            print(\"* \", end=\"\")\n",
    "        else:\n",
    "            print(\"  \", end=\"\")\n",
    "    print()\n",
    "for i in range(4):\n",
    "    print(\" \" * (i+1), end=\"\")\n",
    "    for j in range(4-i):\n",
    "        if j == 0 or j == (3-i):\n",
    "            print(\"* \", end=\"\")\n",
    "        else:\n",
    "            print(\"  \", end=\"\")\n",
    "    print()"
   ]
  },
  {
   "cell_type": "code",
   "execution_count": 26,
   "metadata": {},
   "outputs": [
    {
     "name": "stdout",
     "output_type": "stream",
     "text": [
      "请输入长度：10\n",
      "* * * * * * * * * * * \n",
      "* * * * * * * * * * * \n",
      "* * * * * * * * * * * \n",
      "* * * * * * * * * * * \n",
      "* * * * * * * * * * * \n",
      "* * * * * * * * * * * \n",
      "* * * * * * * * * * * \n",
      "* * * * * * * * * * * \n",
      "* * * * * * * * * * * \n",
      "* * * * * * * * * * * \n"
     ]
    }
   ],
   "source": [
    "# 利用函数输入随意大小的矩形\n",
    "def s_jx(n): # 参数为边长\n",
    "    for i in range(n):\n",
    "        print(\"* \" * (n+1))\n",
    "w = int(input(\"请输入长度：\"))\n",
    "s_jx(w)\n",
    "    "
   ]
  },
  {
   "cell_type": "code",
   "execution_count": 27,
   "metadata": {
    "collapsed": true
   },
   "outputs": [],
   "source": [
    "# 其他代码的函数化类似，将关键变量用参数代替即可\n",
    "#　或者加入多个，用判断选择打印的图形"
   ]
  }
 ],
 "metadata": {
  "kernelspec": {
   "display_name": "Python 3",
   "language": "python",
   "name": "python3"
  },
  "language_info": {
   "codemirror_mode": {
    "name": "ipython",
    "version": 3
   },
   "file_extension": ".py",
   "mimetype": "text/x-python",
   "name": "python",
   "nbconvert_exporter": "python",
   "pygments_lexer": "ipython3",
   "version": "3.6.3"
  }
 },
 "nbformat": 4,
 "nbformat_minor": 2
}
