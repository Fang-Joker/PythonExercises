{
 "cells": [
  {
   "cell_type": "code",
   "execution_count": 2,
   "metadata": {},
   "outputs": [
    {
     "name": "stdout",
     "output_type": "stream",
     "text": [
      "* * * * * \n",
      "* * * * * \n",
      "* * * * * \n",
      "* * * * * \n"
     ]
    }
   ],
   "source": [
    "# 简单图形打印\n",
    "\n",
    "\"\"\"\n",
    "打印以下图形在输出界面上\n",
    "* * * * *\n",
    "* * * * *\n",
    "* * * * *\n",
    "* * * * *\n",
    "\"\"\"\n",
    "\n",
    "print(\"* * * * * \")\n",
    "print(\"* * * * * \")\n",
    "print(\"* * * * * \")\n",
    "print(\"* * * * * \")"
   ]
  },
  {
   "cell_type": "code",
   "execution_count": 6,
   "metadata": {},
   "outputs": [
    {
     "name": "stdout",
     "output_type": "stream",
     "text": [
      "* * * * * \n",
      "* * * * * \n",
      "* * * * * \n",
      "* * * * * \n"
     ]
    }
   ],
   "source": [
    "# 更改代码使用ｆｏｒ循环，使用双层循环\n",
    "for i in range(4):\n",
    "    for j in range(5):\n",
    "        print(\"* \",end='')  # end=''设置结尾\n",
    "    print(\"\")  #完整打印一行后换行\n",
    "    "
   ]
  },
  {
   "cell_type": "code",
   "execution_count": 8,
   "metadata": {},
   "outputs": [
    {
     "name": "stdout",
     "output_type": "stream",
     "text": [
      "* * * * * \n",
      "* * * * * \n",
      "* * * * * \n",
      "* * * * * \n"
     ]
    }
   ],
   "source": [
    "#　使用单层循环\n",
    "for i in range(4):\n",
    "    print(\"* \" * 5)"
   ]
  },
  {
   "cell_type": "code",
   "execution_count": 10,
   "metadata": {},
   "outputs": [
    {
     "name": "stdout",
     "output_type": "stream",
     "text": [
      "* * * * * \n",
      "*       *\n",
      "*       *\n",
      "* * * * * \n"
     ]
    }
   ],
   "source": [
    "# 简单图形打印\n",
    "\n",
    "\"\"\"\n",
    "打印以下图形在输出界面上\n",
    "* * * * *\n",
    "*       *\n",
    "*       *\n",
    "* * * * *\n",
    "\"\"\"\n",
    "\n",
    "# 外层循环控制\n",
    "for i in range(4):\n",
    "    if i == 0:\n",
    "        print(\"* \" * 5)\n",
    "    if i == 3:\n",
    "        print(\"* \" * 5)\n",
    "    if i == 1:\n",
    "        print(\"*       *\")\n",
    "    if i == 2:\n",
    "        print(\"*       *\")"
   ]
  },
  {
   "cell_type": "code",
   "execution_count": 11,
   "metadata": {},
   "outputs": [
    {
     "name": "stdout",
     "output_type": "stream",
     "text": [
      "* * * * * \n",
      "*       *\n",
      "*       *\n",
      "* * * * * \n"
     ]
    }
   ],
   "source": [
    "# 更改，简化\n",
    "for i in range(4):\n",
    "    if i == 0 or i == 3:\n",
    "        print(\"* \" * 5)\n",
    "    else:\n",
    "        print(\"*       *\")"
   ]
  },
  {
   "cell_type": "code",
   "execution_count": 17,
   "metadata": {},
   "outputs": [
    {
     "name": "stdout",
     "output_type": "stream",
     "text": [
      "* * * * * \n",
      "*       * \n",
      "*       * \n",
      "* * * * * \n"
     ]
    }
   ],
   "source": [
    "# 更改，简化\n",
    "for i in range(4):\n",
    "    if i == 0 or i == 3:\n",
    "        print(\"* \" * 5)\n",
    "    else:\n",
    "        for j in range(5):\n",
    "            if j == 0 or j == 4:\n",
    "                print(\"* \", end=\"\")\n",
    "            else:\n",
    "                print(\"  \", end=\"\")\n",
    "        print(\"\")"
   ]
  },
  {
   "cell_type": "code",
   "execution_count": 19,
   "metadata": {},
   "outputs": [
    {
     "name": "stdout",
     "output_type": "stream",
     "text": [
      "* \n",
      "* * \n",
      "* * * \n",
      "* * * * \n",
      "* * * * * \n"
     ]
    }
   ],
   "source": [
    "# 打印三角形\n",
    "\"\"\"\n",
    "* \n",
    "* * \n",
    "* * * \n",
    "* * * * \n",
    "* * * * *\n",
    "\"\"\"\n",
    "\n",
    "# 自己的初始做法,更好就记下，否则不记\n",
    "for i in range(1,6):\n",
    "    print(\"* \" * i)\n"
   ]
  },
  {
   "cell_type": "code",
   "execution_count": 22,
   "metadata": {},
   "outputs": [
    {
     "name": "stdout",
     "output_type": "stream",
     "text": [
      "* \n",
      "* * \n",
      "*   * \n",
      "*     * \n",
      "* * * * * \n"
     ]
    }
   ],
   "source": [
    "# 打印空心三角形\n",
    "\"\"\"\n",
    "* \n",
    "* * \n",
    "*   * \n",
    "*     * \n",
    "* * * * *\n",
    "\"\"\"\n",
    "\n",
    "# by me first\n",
    "# 要分别对行列进行判断是打印*还是空格\n",
    "for i in range(5):\n",
    "    for j in range(i+1):\n",
    "        if i == 4:\n",
    "            print(\"* \", end=\"\")\n",
    "            continue\n",
    "        \n",
    "        # 若不是最后一行，则由列ｊ来控制\n",
    "        if j == 0 or j == i:\n",
    "            print(\"* \", end=\"\")\n",
    "        else:\n",
    "            print(\"  \", end=\"\")\n",
    "    print()"
   ]
  },
  {
   "cell_type": "code",
   "execution_count": 25,
   "metadata": {},
   "outputs": [
    {
     "name": "stdout",
     "output_type": "stream",
     "text": [
      "* * * * * \n",
      "* * * * \n",
      "* * * \n",
      "* * \n",
      "* \n"
     ]
    }
   ],
   "source": [
    "# 打印倒三角\n",
    "\"\"\"\n",
    "* * * * * \n",
    "* * * *\n",
    "* * *\n",
    "* * \n",
    "* \n",
    "\"\"\"\n",
    "\n",
    "# 和上面类似，但是方向换过来，由大到小\n",
    "\n",
    "for i in range(5):\n",
    "    print(\"* \" * (5-i))\n"
   ]
  },
  {
   "cell_type": "code",
   "execution_count": 31,
   "metadata": {},
   "outputs": [
    {
     "name": "stdout",
     "output_type": "stream",
     "text": [
      "* * * * * \n",
      "*     * \n",
      "*   * \n",
      "* * \n",
      "* \n"
     ]
    }
   ],
   "source": [
    "# 打印空的倒三角\n",
    "\"\"\"\n",
    "* * * * * \n",
    "*     *\n",
    "*   *\n",
    "* * \n",
    "* \n",
    "\"\"\"\n",
    "#　类似，若为第一行则全打印，若不是则要看列号是否为开头或者结尾\n",
    "\n",
    "for i in range(5):\n",
    "    for j in range(5-i):  #　最大值为4-i，注意左开有闭\n",
    "        if i == 0:\n",
    "            print(\"* \" * (5-i), end=\"\")\n",
    "            break\n",
    "        if j == 0 or j == (4-i):\n",
    "            print(\"* \", end=\"\")\n",
    "        else:\n",
    "            print(\"  \", end=\"\")\n",
    "    print()"
   ]
  },
  {
   "cell_type": "code",
   "execution_count": 33,
   "metadata": {},
   "outputs": [
    {
     "name": "stdout",
     "output_type": "stream",
     "text": [
      "    * \n",
      "   * * \n",
      "  * * * \n",
      " * * * * \n",
      "* * * * * \n"
     ]
    }
   ],
   "source": [
    "# 打印一个宝塔三角形\n",
    "\"\"\"\n",
    "    *\n",
    "   * * \n",
    "  * * * \n",
    " * * * *\n",
    "* * * * * \n",
    "\"\"\"\n",
    "# 理论，利用双重循环控制* 和　的打印\n",
    "# 实际上一个循环就可以了，左边的空格数量和*数量和行号高度相关\n",
    "for i in range(1,6):\n",
    "    # 把左边看成一个空格组成的倒三角\n",
    "    print(\" \" * (5-i), end=\"\")\n",
    "    print(\"* \" * i)"
   ]
  },
  {
   "cell_type": "code",
   "execution_count": 35,
   "metadata": {},
   "outputs": [
    {
     "name": "stdout",
     "output_type": "stream",
     "text": [
      "     * \n",
      "    * * \n",
      "   *   * \n",
      "  *     * \n",
      " * * * * * \n"
     ]
    }
   ],
   "source": [
    "# 打印一个中空宝塔三角形\n",
    "\"\"\"\n",
    "    *\n",
    "   * * \n",
    "  *   * \n",
    " *     *\n",
    "* * * * * \n",
    "\"\"\"\n",
    "# 理论，利用双重循环控制* 和　的打印\n",
    "\n",
    "for i in range(5):\n",
    "    # 先打印左边三角空格\n",
    "    print(\" \" * (5-i), end=\"\")\n",
    "    # 后面其实相当于正常的空正三角，直接复用上面的代码即可\n",
    "    for j in range(i+1):\n",
    "        if i == 4:\n",
    "            print(\"* \", end=\"\")\n",
    "            continue\n",
    "        \n",
    "        # 若不是最后一行，则由列ｊ来控制\n",
    "        if j == 0 or j == i:\n",
    "            print(\"* \", end=\"\")\n",
    "        else:\n",
    "            print(\"  \", end=\"\")\n",
    "    print()"
   ]
  }
 ],
 "metadata": {
  "kernelspec": {
   "display_name": "Python 3",
   "language": "python",
   "name": "python3"
  },
  "language_info": {
   "codemirror_mode": {
    "name": "ipython",
    "version": 3
   },
   "file_extension": ".py",
   "mimetype": "text/x-python",
   "name": "python",
   "nbconvert_exporter": "python",
   "pygments_lexer": "ipython3",
   "version": "3.6.3"
  }
 },
 "nbformat": 4,
 "nbformat_minor": 2
}
