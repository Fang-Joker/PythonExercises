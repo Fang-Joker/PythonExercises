{
 "cells": [
  {
   "cell_type": "code",
   "execution_count": 2,
   "metadata": {},
   "outputs": [
    {
     "name": "stdout",
     "output_type": "stream",
     "text": [
      "* * * * * \n",
      "* * * * * \n",
      "* * * * * \n",
      "* * * * * \n"
     ]
    }
   ],
   "source": [
    "# 简单图形打印\n",
    "\n",
    "\"\"\"\n",
    "打印以下图形在输出界面上\n",
    "* * * * *\n",
    "* * * * *\n",
    "* * * * *\n",
    "* * * * *\n",
    "\"\"\"\n",
    "\n",
    "print(\"* * * * * \")\n",
    "print(\"* * * * * \")\n",
    "print(\"* * * * * \")\n",
    "print(\"* * * * * \")"
   ]
  },
  {
   "cell_type": "code",
   "execution_count": 6,
   "metadata": {},
   "outputs": [
    {
     "name": "stdout",
     "output_type": "stream",
     "text": [
      "* * * * * \n",
      "* * * * * \n",
      "* * * * * \n",
      "* * * * * \n"
     ]
    }
   ],
   "source": [
    "# 更改代码使用ｆｏｒ循环，使用双层循环\n",
    "for i in range(4):\n",
    "    for j in range(5):\n",
    "        print(\"* \",end='')  # end=''设置结尾\n",
    "    print(\"\")  #完整打印一行后换行\n",
    "    "
   ]
  },
  {
   "cell_type": "code",
   "execution_count": 8,
   "metadata": {},
   "outputs": [
    {
     "name": "stdout",
     "output_type": "stream",
     "text": [
      "* * * * * \n",
      "* * * * * \n",
      "* * * * * \n",
      "* * * * * \n"
     ]
    }
   ],
   "source": [
    "#　使用单层循环\n",
    "for i in range(4):\n",
    "    print(\"* \" * 5)"
   ]
  },
  {
   "cell_type": "code",
   "execution_count": 10,
   "metadata": {},
   "outputs": [
    {
     "name": "stdout",
     "output_type": "stream",
     "text": [
      "* * * * * \n",
      "*       *\n",
      "*       *\n",
      "* * * * * \n"
     ]
    }
   ],
   "source": [
    "# 简单图形打印\n",
    "\n",
    "\"\"\"\n",
    "打印以下图形在输出界面上\n",
    "* * * * *\n",
    "*       *\n",
    "*       *\n",
    "* * * * *\n",
    "\"\"\"\n",
    "\n",
    "# 外层循环控制\n",
    "for i in range(4):\n",
    "    if i == 0:\n",
    "        print(\"* \" * 5)\n",
    "    if i == 3:\n",
    "        print(\"* \" * 5)\n",
    "    if i == 1:\n",
    "        print(\"*       *\")\n",
    "    if i == 2:\n",
    "        print(\"*       *\")"
   ]
  },
  {
   "cell_type": "code",
   "execution_count": 11,
   "metadata": {},
   "outputs": [
    {
     "name": "stdout",
     "output_type": "stream",
     "text": [
      "* * * * * \n",
      "*       *\n",
      "*       *\n",
      "* * * * * \n"
     ]
    }
   ],
   "source": [
    "# 更改，简化\n",
    "for i in range(4):\n",
    "    if i == 0 or i == 3:\n",
    "        print(\"* \" * 5)\n",
    "    else:\n",
    "        print(\"*       *\")"
   ]
  },
  {
   "cell_type": "code",
   "execution_count": 16,
   "metadata": {},
   "outputs": [
    {
     "name": "stdout",
     "output_type": "stream",
     "text": [
      "* * * * * \n",
      "*       * \n",
      "*       * \n",
      "* * * * * \n"
     ]
    }
   ],
   "source": [
    "# 更改，简化\n",
    "for i in range(4):\n",
    "    if i == 0 or i == 3:\n",
    "        print(\"* \" * 5)\n",
    "    else:\n",
    "        for j in range(5):\n",
    "            if j == 0 or j == 4:\n",
    "                print(\"* \", end=\"\")\n",
    "            else:\n",
    "                print(\"  \", end=\"\")\n",
    "        print(\"\")"
   ]
  }
 ],
 "metadata": {
  "kernelspec": {
   "display_name": "Python 3",
   "language": "python",
   "name": "python3"
  },
  "language_info": {
   "codemirror_mode": {
    "name": "ipython",
    "version": 3
   },
   "file_extension": ".py",
   "mimetype": "text/x-python",
   "name": "python",
   "nbconvert_exporter": "python",
   "pygments_lexer": "ipython3",
   "version": "3.6.3"
  }
 },
 "nbformat": 4,
 "nbformat_minor": 2
}
