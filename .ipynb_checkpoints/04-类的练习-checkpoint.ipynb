{
 "cells": [
  {
   "cell_type": "markdown",
   "metadata": {},
   "source": [
    "# 定义一个学生类，有下面的类属性\n",
    "- 1.姓名\n",
    "- 2.年龄\n",
    "- 3.成绩（语文，数学，英语）每课成绩类型为整数 类方法：\n",
    "- 4.获取学生的姓名：get_name() 返回类型：str\n",
    "- 5.获取学生的年纪：get_age()返回类型：int\n",
    "- 6.返回3门科目中最高的分数，get_course()返回类型：int"
   ]
  },
  {
   "cell_type": "code",
   "execution_count": 3,
   "metadata": {},
   "outputs": [
    {
     "name": "stdout",
     "output_type": "stream",
     "text": [
      "周周\n",
      "18\n",
      "100\n"
     ]
    }
   ],
   "source": [
    "class Student():\n",
    "    \n",
    "    def __init__(self, name, age, scores):\n",
    "        self.name = name\n",
    "        self.age = age\n",
    "        self.scores = scores\n",
    "        \n",
    "    def get_name(self):\n",
    "        return self.name\n",
    "    \n",
    "    def get_age(self):\n",
    "        return self.age\n",
    "    \n",
    "    def get_course(self):\n",
    "        return max(self.scores)\n",
    "    \n",
    "zz = Student(\"周周\", 18, [80,100,90])\n",
    "print(zz.get_name())\n",
    "print(zz.get_age())\n",
    "print(zz.get_course())\n",
    "\n",
    "# print(min([100,299,499,500]))"
   ]
  },
  {
   "cell_type": "markdown",
   "metadata": {},
   "source": [
    "#### 定义一个字典类：DictClass，完成如下功能\n",
    "1. 删除某个key del_dict(key)\n",
    "2. 判断某个键是否在字典里，如果在返回键对应的值，不在则返回‘not found' get_dict()\n",
    "3. 返回键组成的列表 返回类型：list get_key()\n",
    "4. 合并字典，并且返回合并后字典的values组成的列表，返回类型list update_dict()"
   ]
  },
  {
   "cell_type": "code",
   "execution_count": 23,
   "metadata": {},
   "outputs": [
    {
     "name": "stdout",
     "output_type": "stream",
     "text": [
      "[1, 2, 3]\n"
     ]
    }
   ],
   "source": [
    "class DictClass():\n",
    "    \n",
    "    def __init__(self, dic):\n",
    "        self.dict = dic\n",
    "    \n",
    "    def del_dict(self, key):\n",
    "        # 判断该键是否在字典中\n",
    "        if key not in self.dict.keys():\n",
    "            print(\"not found\")\n",
    "        else:\n",
    "            self.dict.pop(key)\n",
    "            print(\"删除成功\")\n",
    "            \n",
    "    def get_dict(self, key):\n",
    "        if key not in self.dict.keys():\n",
    "            print(\"not found\")\n",
    "        else:\n",
    "            return self.dict[key]\n",
    "        \n",
    "    def get_key(self):\n",
    "        return self.dict.keys()\n",
    "    \n",
    "    def update_dict(self, dic):\n",
    "        self.dict = dict(self.dict, **dic) # 键值对变量传入方式，加在前面**\n",
    "        return list(self.dict.values())\n",
    "\n",
    "d = DictClass({\"a\":1,\"b\":2})\n",
    "print(d.update_dict({\"c\":3}))"
   ]
  },
  {
   "cell_type": "markdown",
   "metadata": {},
   "source": [
    "#### 定义一个列表的操作类 ListInfo\n",
    "包括的方法\n",
    "1. 列表元素添加: add_key() 添加的必须是数字或者字符串\n",
    "2. 列表元素取值: get_key()\n",
    "3. 列表合并: update_list(list)\n",
    "4. 删除并且返回最后一个元素: del_key()"
   ]
  },
  {
   "cell_type": "code",
   "execution_count": 36,
   "metadata": {},
   "outputs": [
    {
     "name": "stdout",
     "output_type": "stream",
     "text": [
      "输入内容跟不符合规范\n",
      "4\n",
      "[1, 2, 3, 4, 5, 8, 9, 10]\n",
      "5\n"
     ]
    }
   ],
   "source": [
    "class ListInfo():\n",
    "    \n",
    "    def __init__(self, lis):\n",
    "        self.list = lis\n",
    "        \n",
    "    def add_key(self, oth):\n",
    "        # 检测输入内容是否符合所需要的类型\n",
    "        if isinstance(oth, (int, float, str)):\n",
    "            return self.list.add(oth)\n",
    "        else:\n",
    "            return \"输入内容跟不符合规范\"\n",
    "            \n",
    "    def get_key(self, index):\n",
    "        if index >= 0 and index < len(self.list):\n",
    "            return self.list[index]\n",
    "        else:\n",
    "            return \"索引越界\"\n",
    "            \n",
    "    def update_list(self, list2):\n",
    "        # self.list.extend(list2)也可以实现\n",
    "        return (self.list + list2)\n",
    "    \n",
    "    def del_key(self):\n",
    "        if len(self.list) > 0:\n",
    "            return self.list.pop()\n",
    "        else:\n",
    "            return \"列表是空的\"\n",
    "            \n",
    "list_info = ListInfo([1,2,3,4,5])\n",
    "\n",
    "print(list_info.add_key([1,4,5,6]))\n",
    "print(list_info.get_key(3))\n",
    "print(list_info.update_list([8,9,10]))\n",
    "print(list_info.del_key())"
   ]
  },
  {
   "cell_type": "markdown",
   "metadata": {},
   "source": [
    "#### 定义一个集合的操作类\n",
    "包括的方法\n",
    "1. 集合元素添加: add_setinfo()\n",
    "2. 集合的交集: get_intersection()\n",
    "3. 集合的并集: get_union()\n",
    "4. 集合的差集: del_difference()"
   ]
  },
  {
   "cell_type": "code",
   "execution_count": 37,
   "metadata": {},
   "outputs": [
    {
     "name": "stdout",
     "output_type": "stream",
     "text": [
      "你传入的不是set\n"
     ]
    }
   ],
   "source": [
    "class SecInfo(object):\n",
    "    def __init__(self, my_set):\n",
    "        self.sett = my_set\n",
    "        \n",
    "    def add_setinfo(self, keyname):\n",
    "        self.sett.add(keyname)\n",
    "        return self.sett\n",
    "    \n",
    "    def get_intersection(self,unioninfo):\n",
    "        if isinstance(unioninfo, set):\n",
    "            return self.sett & unioninfo\n",
    "        else:\n",
    "            return \"你传入的不是set\"\n",
    "    \n",
    "    def get_union(self, unioninfo):\n",
    "        if isinstance(unioninfo, set):\n",
    "            return self.sett | unioninfo\n",
    "        return \"你传入的不是set\"\n",
    "    \n",
    "    def del_difference(self, unioninfo):\n",
    "        if isinstance(unioninfo, set):\n",
    "            return self.sett - unioninfo\n",
    "        return \"你传入的不是set\"\n",
    "    \n",
    "A = set([1,2,3,4,5])\n",
    "B = set([5,6,3])\n",
    "my_set = SecInfo(A)\n",
    "# print(my_set.add_setinfo(6))\n",
    "# print(my_set.get_union(B))\n",
    "# print(my_set.del_difference(B))\n",
    "print(my_set.del_difference(\"123\"))"
   ]
  }
 ],
 "metadata": {
  "kernelspec": {
   "display_name": "Python 3",
   "language": "python",
   "name": "python3"
  },
  "language_info": {
   "codemirror_mode": {
    "name": "ipython",
    "version": 3
   },
   "file_extension": ".py",
   "mimetype": "text/x-python",
   "name": "python",
   "nbconvert_exporter": "python",
   "pygments_lexer": "ipython3",
   "version": "3.7.0"
  }
 },
 "nbformat": 4,
 "nbformat_minor": 1
}
