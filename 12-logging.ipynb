{
 "cells": [
  {
   "cell_type": "markdown",
   "metadata": {},
   "source": [
    "#### logging\n",
    "- logging.debug\n",
    "- logging.info\n",
    "- logging.warning\n",
    "- logging.error\n",
    "- logging.critical"
   ]
  },
  {
   "cell_type": "code",
   "execution_count": 3,
   "metadata": {},
   "outputs": [],
   "source": [
    "import logging\n",
    "\n",
    "LOG_FORMAT = \"%(asctime)s--%(levelname)s--%(message)s\"\n",
    "\n",
    "logging.basicConfig(level=logging.DEBUG, format=LOG_FORMAT, filename=\"12-test01.txt\")\n",
    "\n",
    "logging.debug(\"this is debug\")\n",
    "logging.info(\"this is info\")\n",
    "logging.warning(\"this is warning\")\n",
    "logging.error(\"this is error\")\n",
    "logging.critical(\"this is critical\")\n"
   ]
  },
  {
   "cell_type": "markdown",
   "metadata": {},
   "source": [
    "#### 装饰器\n",
    "- 使用装饰器，打印函数执行的时间"
   ]
  },
  {
   "cell_type": "code",
   "execution_count": 24,
   "metadata": {},
   "outputs": [
    {
     "name": "stdout",
     "output_type": "stream",
     "text": [
      "<class 'function'>\n",
      "test done\n"
     ]
    }
   ],
   "source": [
    "import logging \n",
    "\n",
    "LOG_FORMART = \"%(asctime)s - %(levelname)s - %(message)s\"\n",
    "logging.basicConfig(format = LOG_FORMART)\n",
    "\n",
    "# 装饰器\n",
    "def log(func):\n",
    "    def wrapper(*arg, **kw):\n",
    "        logging.error(\"This is error message\")\n",
    "        return func(*arg, **kw)\n",
    "    return wrapper\n",
    "\n",
    "@log\n",
    "def test():\n",
    "    print(\"test done\")\n",
    "    \n",
    "test()"
   ]
  },
  {
   "cell_type": "code",
   "execution_count": 14,
   "metadata": {},
   "outputs": [
    {
     "name": "stdout",
     "output_type": "stream",
     "text": [
      "test done\n"
     ]
    }
   ],
   "source": [
    "#### 使用装饰器，根据不同的函数，传入的日志不相同\n",
    "\n",
    "# def log(func):\n",
    "#     def wrapper(*arg, **kw):\n",
    "#         logging.error(\"this is info message\")\n",
    "#         return func(*arg, **kw)\n",
    "#     return wrapper\n",
    "import logging\n",
    "\n",
    "LOG_FORMART = \"%(asctime)s - %(levelname)s - %(message)s\"\n",
    "logging.basicConfig(format=LOG_FORMART, filename=\"12-test02.log\") # 初次设置才有效\n",
    "\n",
    "def log(text):  # 这里传入log里的参数，然后返回decorator，该函数传入被修饰的test\n",
    "    def decorator(func):  # 这样子就能接受外来文本且正常修饰\n",
    "        def wrapper(*arg, **kw):\n",
    "            logging.error(text)\n",
    "            return func(*arg, **kw)\n",
    "        return wrapper\n",
    "    return decorator\n",
    "\n",
    "# log后的传入传入后即被保存\n",
    "@log(\"test done\")\n",
    "def test():\n",
    "    print(\"test done\")\n",
    "    \n",
    "test()"
   ]
  },
  {
   "cell_type": "code",
   "execution_count": 25,
   "metadata": {},
   "outputs": [
    {
     "name": "stdout",
     "output_type": "stream",
     "text": [
      "<class 'function'>\n"
     ]
    },
    {
     "data": {
      "text/plain": [
       "<function __main__.log.<locals>.wrapper(*arg, **kw)>"
      ]
     },
     "execution_count": 25,
     "metadata": {},
     "output_type": "execute_result"
    }
   ],
   "source": [
    "import logging\n",
    "# 被修饰后，输出主程的名字\n",
    "def log(func):\n",
    "    def wrapper(*arg, **kw):\n",
    "        #print(func.__name__)\n",
    "        logging.error(\"this is info message\")\n",
    "        return func(*arg, **kw)\n",
    "    return wrapper\n",
    "\n",
    "@log\n",
    "def test():\n",
    "    pass\n",
    "print(type(test))\n",
    "test()\n",
    "log(test)"
   ]
  },
  {
   "cell_type": "code",
   "execution_count": 34,
   "metadata": {},
   "outputs": [
    {
     "name": "stdout",
     "output_type": "stream",
     "text": [
      "test\n",
      "--------------------\n",
      "wrapper\n",
      "test\n"
     ]
    }
   ],
   "source": [
    "def log(text):\n",
    "    def decorator(func):\n",
    "        def wrapper(*arg, **kw):\n",
    "            print(func.__name__)\n",
    "            logging.error(text)\n",
    "            return func(*arg, **kw)\n",
    "        return wrapper\n",
    "    return decorator\n",
    "\n",
    "@log(\"hahah\")\n",
    "def test():\n",
    "    pass\n",
    "\n",
    "test()\n",
    "print(\"-\" * 20)\n",
    "\n",
    "log(\"xixi\")(test)() # 可使用的执行过程，但这里最后又多执行了带语法糖的一次\n",
    "# 因为test本身就被修饰了，一般不用这种形式"
   ]
  },
  {
   "cell_type": "markdown",
   "metadata": {},
   "source": [
    "#### 用logging的四大组件来实现日志的功能\n",
    "- 打应出函数执行的时间，日志的等级，日志的消息\n",
    "- 用装饰器\n",
    "- 不同的日志，要记录不同等级的日志消息\n",
    "\n",
    "- 注意：一般情况我们在实际的工作当中，我们经常把logging封装成一个装饰器，比如：新建一个loggerTools的文件，在需要保存日志的地方，把loggerTools给引进进来"
   ]
  },
  {
   "cell_type": "code",
   "execution_count": 35,
   "metadata": {},
   "outputs": [
    {
     "name": "stdout",
     "output_type": "stream",
     "text": [
      "test done\n",
      "test1 done\n"
     ]
    }
   ],
   "source": [
    "import logging\n",
    "\n",
    "logger = logging.getLogger(\"mylogger\") # 获取一个日志的捕获器\n",
    "\n",
    "logger.setLevel(logging.DEBUG) # 设置记录的日志的错误级别\n",
    "\n",
    "# handler：日志的信息处理器，负责处理日志被分发到哪里去\n",
    "\n",
    "# TimeRotationFileHandler 是用来按照日期去划分日志\n",
    "# RotationFileHandler 是按照日志文件的大小划分日志\n",
    "\n",
    "# 实例化一个接受debug级别的日志处理器:设置保存文件；错误级别；记录格式\n",
    "debug_handler = logging.FileHandler(\"1024debug1.log\")\n",
    "debug_handler.setLevel(logging.DEBUG)\n",
    "debug_handler.setFormatter(logging.Formatter(\"%(asctime)s - %(levelname)s - %(message)s\"))\n",
    "\n",
    "# 同理，error级别的\n",
    "error_handler = logging.FileHandler(\"1024error1.log\")\n",
    "error_handler.setLevel(logging.ERROR)\n",
    "error_handler.setFormatter(logging.Formatter(\"%(asctime)s - %(levelname)s - %(message)s\"))\n",
    "\n",
    "logger.addHandler(debug_handler)\n",
    "logger.addHandler(error_handler)\n",
    "# 这里没有设置过滤器，按需要进行设置\n",
    "\n",
    "# 接着将其日志引发功能放进语法糖中，额外引发日志就可以了\n",
    "def log(func):\n",
    "    def wrapper(*arg, **kw):\n",
    "        logger.debug(\"This is a debug info\")\n",
    "        logger.error(\"This is a error info\")\n",
    "        return func(*arg, **kw)\n",
    "    return wrapper\n",
    "\n",
    "# 要有不同的信息，则用这个\n",
    "def loghigher(text):\n",
    "    def decorator(func):\n",
    "        def wrapper(*arg, **kw):\n",
    "            logger.debug(text)\n",
    "            logger.error(text)\n",
    "            return func(*arg, **kw)\n",
    "        return wrapper\n",
    "    return decorator\n",
    "\n",
    "@log\n",
    "def test():\n",
    "    print(\"test done\")\n",
    "    \n",
    "@loghigher(\"This is test1 done\")\n",
    "def test1():\n",
    "    print(\"test1 done\")\n",
    "    \n",
    "test()\n",
    "test1()"
   ]
  }
 ],
 "metadata": {
  "kernelspec": {
   "display_name": "Python 3",
   "language": "python",
   "name": "python3"
  },
  "language_info": {
   "codemirror_mode": {
    "name": "ipython",
    "version": 3
   },
   "file_extension": ".py",
   "mimetype": "text/x-python",
   "name": "python",
   "nbconvert_exporter": "python",
   "pygments_lexer": "ipython3",
   "version": "3.7.0"
  }
 },
 "nbformat": 4,
 "nbformat_minor": 2
}
