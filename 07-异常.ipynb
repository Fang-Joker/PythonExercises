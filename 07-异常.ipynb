{
 "cells": [
  {
   "cell_type": "markdown",
   "metadata": {},
   "source": [
    "#### 编写一个计算减法的方法，当第一个数小于第二个数时，抛出“被减数不能小于减数\"的异常"
   ]
  },
  {
   "cell_type": "code",
   "execution_count": 4,
   "metadata": {},
   "outputs": [
    {
     "name": "stdout",
     "output_type": "stream",
     "text": [
      "出错了，错误内容是被减数不能小于减数\n"
     ]
    }
   ],
   "source": [
    "def minus(a, b):\n",
    "    if a < b:\n",
    "        # 这里由于情景需求，要手动抛出错误，利用raise抛出已有的错误类型\n",
    "        # 在该情景下不希望结果为负数\n",
    "        raise BaseException(\"被减数不能小于减数\")\n",
    "    else:\n",
    "        return a-b\n",
    "    \n",
    "try:\n",
    "    minus(3,7)\n",
    "except BaseException as e:\n",
    "    print(\"出错了，错误内容是{}\".format(e))"
   ]
  },
  {
   "cell_type": "markdown",
   "metadata": {},
   "source": [
    "#### 定义一个函数func(filename) filename:文件的路径，\n",
    " - 函数功能：打开文件，并且返回文件内容，最后关闭，用异常来处理可能发生的错误"
   ]
  },
  {
   "cell_type": "code",
   "execution_count": 6,
   "metadata": {},
   "outputs": [
    {
     "name": "stdout",
     "output_type": "stream",
     "text": [
      "This is a test text!\n",
      "Please close it after using!\n"
     ]
    }
   ],
   "source": [
    "import os\n",
    "\n",
    "def func(filename):\n",
    "    try:\n",
    "        file = open(filename)\n",
    "    except Exception as error:\n",
    "        print(\"出错啦，出错的内容是{}\".format(error))\n",
    "    else:\n",
    "        print(file.read())\n",
    "        file.close()\n",
    "        \n",
    "\n",
    "func(\"07-text01.txt\")"
   ]
  },
  {
   "cell_type": "markdown",
   "metadata": {},
   "source": [
    "#### 自己定义一个异常类，继承Exception类, 捕获下面的过程：判断输入的字符串长度是否小于5"
   ]
  },
  {
   "cell_type": "code",
   "execution_count": 8,
   "metadata": {},
   "outputs": [
    {
     "name": "stdout",
     "output_type": "stream",
     "text": [
      "字符串长度要大于5\n"
     ]
    }
   ],
   "source": [
    "class MyError(Exception):\n",
    "    \n",
    "    def __init__(self, str1):\n",
    "        self.str1 = str1\n",
    "    \n",
    "    # 自定义错误\n",
    "    def process(self):\n",
    "        if len(self.str1) < 5:\n",
    "            print(\"字符串长度要大于5\")\n",
    "        else:\n",
    "            print(\"符合要求\")\n",
    "            \n",
    "try:\n",
    "    er = MyError(\"ssss\")\n",
    "    er.process()\n",
    "except MyError as e:\n",
    "    print(e)"
   ]
  }
 ],
 "metadata": {
  "kernelspec": {
   "display_name": "Python 3",
   "language": "python",
   "name": "python3"
  },
  "language_info": {
   "codemirror_mode": {
    "name": "ipython",
    "version": 3
   },
   "file_extension": ".py",
   "mimetype": "text/x-python",
   "name": "python",
   "nbconvert_exporter": "python",
   "pygments_lexer": "ipython3",
   "version": "3.7.0"
  }
 },
 "nbformat": 4,
 "nbformat_minor": 2
}
